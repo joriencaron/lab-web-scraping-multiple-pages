{
 "cells": [
  {
   "cell_type": "code",
   "execution_count": 8,
   "id": "493a33c6",
   "metadata": {},
   "outputs": [],
   "source": [
    "from bs4 import BeautifulSoup\n",
    "import requests\n",
    "import pandas as pd"
   ]
  },
  {
   "cell_type": "code",
   "execution_count": 9,
   "id": "d8e708b7",
   "metadata": {},
   "outputs": [],
   "source": [
    "##pmc-gallery-vertical > div.c-gallery-vertical > div > div:nth-child(1) > article > h2"
   ]
  },
  {
   "cell_type": "code",
   "execution_count": 10,
   "id": "7940dbc3",
   "metadata": {},
   "outputs": [],
   "source": [
    "url = \"https://playback.fm/charts/top-100-songs/2000\""
   ]
  },
  {
   "cell_type": "code",
   "execution_count": 11,
   "id": "bf9fde87",
   "metadata": {},
   "outputs": [
    {
     "data": {
      "text/plain": [
       "200"
      ]
     },
     "execution_count": 11,
     "metadata": {},
     "output_type": "execute_result"
    }
   ],
   "source": [
    "response = requests.get(url)\n",
    "response.status_code"
   ]
  },
  {
   "cell_type": "code",
   "execution_count": 12,
   "id": "3672740b",
   "metadata": {},
   "outputs": [],
   "source": [
    "soup = BeautifulSoup(response.content, \"html.parser\")"
   ]
  },
  {
   "cell_type": "code",
   "execution_count": 1,
   "id": "f570b5f0",
   "metadata": {},
   "outputs": [],
   "source": [
    "soup"
   ]
  },
  {
   "cell_type": "code",
   "execution_count": 15,
   "id": "b8ab1073",
   "metadata": {},
   "outputs": [
    {
     "name": "stdout",
     "output_type": "stream",
     "text": [
      "https://playback.fm/charts/top-100-songs/2000\n",
      "https://playback.fm/charts/top-100-songs/2001\n",
      "https://playback.fm/charts/top-100-songs/2002\n",
      "https://playback.fm/charts/top-100-songs/2003\n",
      "https://playback.fm/charts/top-100-songs/2004\n",
      "https://playback.fm/charts/top-100-songs/2005\n",
      "https://playback.fm/charts/top-100-songs/2006\n",
      "https://playback.fm/charts/top-100-songs/2007\n",
      "https://playback.fm/charts/top-100-songs/2008\n",
      "https://playback.fm/charts/top-100-songs/2009\n"
     ]
    }
   ],
   "source": [
    "iterations = range(2000, 2010, 1)\n",
    "\n",
    "for i in iterations:\n",
    "    start_at= str(i)\n",
    "    url = \"https://playback.fm/charts/top-100-songs/\"+ start_at +\"\"\n",
    "    print(url)"
   ]
  },
  {
   "cell_type": "code",
   "execution_count": 16,
   "id": "9d5d0d2f",
   "metadata": {},
   "outputs": [],
   "source": [
    "from time import sleep\n",
    "from random import randint"
   ]
  },
  {
   "cell_type": "code",
   "execution_count": 19,
   "id": "2b7abb43",
   "metadata": {},
   "outputs": [
    {
     "name": "stdout",
     "output_type": "stream",
     "text": [
      "https://playback.fm/charts/top-100-songs/2000\n",
      "Status code: 200\n",
      "I will sleep for 4 second/s.\n",
      "https://playback.fm/charts/top-100-songs/2001\n",
      "Status code: 200\n",
      "I will sleep for 4 second/s.\n",
      "https://playback.fm/charts/top-100-songs/2002\n",
      "Status code: 200\n",
      "I will sleep for 3 second/s.\n",
      "https://playback.fm/charts/top-100-songs/2003\n",
      "Status code: 200\n",
      "I will sleep for 2 second/s.\n",
      "https://playback.fm/charts/top-100-songs/2004\n",
      "Status code: 200\n",
      "I will sleep for 4 second/s.\n",
      "https://playback.fm/charts/top-100-songs/2005\n",
      "Status code: 200\n",
      "I will sleep for 2 second/s.\n",
      "https://playback.fm/charts/top-100-songs/2006\n",
      "Status code: 200\n",
      "I will sleep for 4 second/s.\n",
      "https://playback.fm/charts/top-100-songs/2007\n",
      "Status code: 200\n",
      "I will sleep for 4 second/s.\n",
      "https://playback.fm/charts/top-100-songs/2008\n",
      "Status code: 200\n",
      "I will sleep for 4 second/s.\n",
      "https://playback.fm/charts/top-100-songs/2009\n",
      "Status code: 200\n",
      "I will sleep for 3 second/s.\n"
     ]
    }
   ],
   "source": [
    "pages = []\n",
    "\n",
    "for i in iterations:\n",
    "    start_at= str(i)\n",
    "    url = \"https://playback.fm/charts/top-100-songs/\"+ start_at +\"\"\n",
    "    print(url)\n",
    "    response = requests.get(url)\n",
    "    print(\"Status code: \" + str(response.status_code))\n",
    "\n",
    "    pages.append(response)\n",
    "\n",
    "    wait_time = randint(1,4)\n",
    "    print(\"I will sleep for \" + str(wait_time) + \" second/s.\")\n",
    "    sleep(wait_time)"
   ]
  },
  {
   "cell_type": "code",
   "execution_count": 2,
   "id": "cf58801b",
   "metadata": {},
   "outputs": [],
   "source": [
    "print(BeautifulSoup(pages[0].content, \"html.parser\").prettify())"
   ]
  },
  {
   "cell_type": "markdown",
   "id": "d8981321",
   "metadata": {},
   "source": [
    "# Parsing the first page"
   ]
  },
  {
   "cell_type": "code",
   "execution_count": 21,
   "id": "e980920d",
   "metadata": {},
   "outputs": [],
   "source": [
    "soup = BeautifulSoup(pages[0].content, \"html.parser\")"
   ]
  },
  {
   "cell_type": "code",
   "execution_count": 3,
   "id": "1f981b3f",
   "metadata": {},
   "outputs": [],
   "source": [
    "##myTable > tbody > tr:nth-child(1) > td:nth-child(2) > a\n",
    "soup.select(\"td:nth-child(2)\")"
   ]
  },
  {
   "cell_type": "code",
   "execution_count": 4,
   "id": "7e6bae39",
   "metadata": {},
   "outputs": [],
   "source": [
    "soup.select('a.artist')"
   ]
  },
  {
   "cell_type": "code",
   "execution_count": 79,
   "id": "b73c4851",
   "metadata": {},
   "outputs": [
    {
     "name": "stdout",
     "output_type": "stream",
     "text": [
      "\n",
      "Madonna\n",
      "\n"
     ]
    }
   ],
   "source": [
    "print(soup.select(\"a.artist\")[0].get_text())"
   ]
  },
  {
   "cell_type": "code",
   "execution_count": 5,
   "id": "769acd87",
   "metadata": {},
   "outputs": [],
   "source": [
    "print(soup.select(\"td.mobile-hide\"))"
   ]
  },
  {
   "cell_type": "code",
   "execution_count": 6,
   "id": "77e9cf4b",
   "metadata": {},
   "outputs": [],
   "source": [
    "#myTable > tbody > tr:nth-child(1) > td.mobile-hide > a > span.song\n",
    "soup.select(\"span.song\")"
   ]
  },
  {
   "cell_type": "code",
   "execution_count": 26,
   "id": "08944e31",
   "metadata": {},
   "outputs": [
    {
     "name": "stdout",
     "output_type": "stream",
     "text": [
      "\n",
      "\n",
      "Music\n",
      "\n",
      "\n"
     ]
    }
   ],
   "source": [
    "print(soup.select(\"span.song\")[0].get_text())"
   ]
  },
  {
   "cell_type": "code",
   "execution_count": 67,
   "id": "bc353d9d",
   "metadata": {},
   "outputs": [
    {
     "name": "stdout",
     "output_type": "stream",
     "text": [
      "1000\n",
      "0\n"
     ]
    }
   ],
   "source": [
    "pages_parsed = []\n",
    "song = []\n",
    "artist = []\n",
    "\n",
    "for i in range(len(pages)):\n",
    "    pages_parsed.append(BeautifulSoup(pages[i].content, \"html.parser\"))\n",
    "    song_html = pages_parsed[i].select(\"td.mobile-hide\")\n",
    "    for j in range(len(song_html)):\n",
    "        song.append(song_html[j].select(\"span.song\")[0].get_text())\n",
    "\n",
    "\n",
    "print(len(song)) \n",
    "print(len(artist)) "
   ]
  },
  {
   "cell_type": "code",
   "execution_count": 84,
   "id": "4f3db35f",
   "metadata": {},
   "outputs": [],
   "source": [
    "pages_parsed2 = []\n",
    "\n",
    "for i in range(len(pages)):\n",
    "    pages_parsed2.append(BeautifulSoup(pages[i].content, \"html.parser\"))\n",
    "    artist_html = pages_parsed[i].select(\"td:nth-child(2)\")\n",
    "    for j in range(len(artist_html)):\n",
    "        artist.append(artist_html[j].select(\"a.artist\")[0].get_text())"
   ]
  },
  {
   "cell_type": "code",
   "execution_count": 85,
   "id": "ea6f68f5",
   "metadata": {},
   "outputs": [
    {
     "name": "stdout",
     "output_type": "stream",
     "text": [
      "1000\n",
      "1000\n"
     ]
    }
   ],
   "source": [
    "print(len(song)) \n",
    "print(len(artist))"
   ]
  },
  {
   "cell_type": "markdown",
   "id": "6d327b0f",
   "metadata": {},
   "source": [
    "## Creating a dataframe"
   ]
  },
  {
   "cell_type": "code",
   "execution_count": 86,
   "id": "14b96ee2",
   "metadata": {},
   "outputs": [],
   "source": [
    "top1000_2000s = pd.DataFrame({\"song_title\":song,\n",
    "                       \"artist\":artist,\n",
    "                      })"
   ]
  },
  {
   "cell_type": "code",
   "execution_count": 87,
   "id": "ebabb1f3",
   "metadata": {},
   "outputs": [
    {
     "data": {
      "text/html": [
       "<div>\n",
       "<style scoped>\n",
       "    .dataframe tbody tr th:only-of-type {\n",
       "        vertical-align: middle;\n",
       "    }\n",
       "\n",
       "    .dataframe tbody tr th {\n",
       "        vertical-align: top;\n",
       "    }\n",
       "\n",
       "    .dataframe thead th {\n",
       "        text-align: right;\n",
       "    }\n",
       "</style>\n",
       "<table border=\"1\" class=\"dataframe\">\n",
       "  <thead>\n",
       "    <tr style=\"text-align: right;\">\n",
       "      <th></th>\n",
       "      <th>song_title</th>\n",
       "      <th>artist</th>\n",
       "    </tr>\n",
       "  </thead>\n",
       "  <tbody>\n",
       "    <tr>\n",
       "      <th>0</th>\n",
       "      <td>Music</td>\n",
       "      <td>\\nMadonna\\n</td>\n",
       "    </tr>\n",
       "    <tr>\n",
       "      <th>1</th>\n",
       "      <td>Beautiful Day</td>\n",
       "      <td>\\nU2\\n</td>\n",
       "    </tr>\n",
       "    <tr>\n",
       "      <th>2</th>\n",
       "      <td>Bye, Bye, Bye</td>\n",
       "      <td>\\nN Sync\\n</td>\n",
       "    </tr>\n",
       "    <tr>\n",
       "      <th>3</th>\n",
       "      <td>Stan</td>\n",
       "      <td>\\nEminem\\n</td>\n",
       "    </tr>\n",
       "    <tr>\n",
       "      <th>4</th>\n",
       "      <td>Oops!... I Did it Again</td>\n",
       "      <td>\\nBritney Spears\\n</td>\n",
       "    </tr>\n",
       "  </tbody>\n",
       "</table>\n",
       "</div>"
      ],
      "text/plain": [
       "                song_title              artist\n",
       "0                    Music         \\nMadonna\\n\n",
       "1            Beautiful Day              \\nU2\\n\n",
       "2            Bye, Bye, Bye          \\nN Sync\\n\n",
       "3                     Stan          \\nEminem\\n\n",
       "4  Oops!... I Did it Again  \\nBritney Spears\\n"
      ]
     },
     "execution_count": 87,
     "metadata": {},
     "output_type": "execute_result"
    }
   ],
   "source": [
    "top1000_2000s.head()"
   ]
  },
  {
   "cell_type": "code",
   "execution_count": 89,
   "id": "cc6f7446",
   "metadata": {},
   "outputs": [],
   "source": [
    "top1000_2000s['artist'] = top1000_2000s['artist'].str.replace('\\n','')"
   ]
  },
  {
   "cell_type": "code",
   "execution_count": 91,
   "id": "48e6a372",
   "metadata": {},
   "outputs": [
    {
     "data": {
      "text/html": [
       "<div>\n",
       "<style scoped>\n",
       "    .dataframe tbody tr th:only-of-type {\n",
       "        vertical-align: middle;\n",
       "    }\n",
       "\n",
       "    .dataframe tbody tr th {\n",
       "        vertical-align: top;\n",
       "    }\n",
       "\n",
       "    .dataframe thead th {\n",
       "        text-align: right;\n",
       "    }\n",
       "</style>\n",
       "<table border=\"1\" class=\"dataframe\">\n",
       "  <thead>\n",
       "    <tr style=\"text-align: right;\">\n",
       "      <th></th>\n",
       "      <th>song_title</th>\n",
       "      <th>artist</th>\n",
       "    </tr>\n",
       "  </thead>\n",
       "  <tbody>\n",
       "    <tr>\n",
       "      <th>0</th>\n",
       "      <td>Music</td>\n",
       "      <td>Madonna</td>\n",
       "    </tr>\n",
       "    <tr>\n",
       "      <th>1</th>\n",
       "      <td>Beautiful Day</td>\n",
       "      <td>U2</td>\n",
       "    </tr>\n",
       "    <tr>\n",
       "      <th>2</th>\n",
       "      <td>Bye, Bye, Bye</td>\n",
       "      <td>N Sync</td>\n",
       "    </tr>\n",
       "    <tr>\n",
       "      <th>3</th>\n",
       "      <td>Stan</td>\n",
       "      <td>Eminem</td>\n",
       "    </tr>\n",
       "    <tr>\n",
       "      <th>4</th>\n",
       "      <td>Oops!... I Did it Again</td>\n",
       "      <td>Britney Spears</td>\n",
       "    </tr>\n",
       "    <tr>\n",
       "      <th>...</th>\n",
       "      <td>...</td>\n",
       "      <td>...</td>\n",
       "    </tr>\n",
       "    <tr>\n",
       "      <th>995</th>\n",
       "      <td>Not Fair</td>\n",
       "      <td>Lily Allen</td>\n",
       "    </tr>\n",
       "    <tr>\n",
       "      <th>996</th>\n",
       "      <td>Dog Days Are Over</td>\n",
       "      <td>Florence + The Machine</td>\n",
       "    </tr>\n",
       "    <tr>\n",
       "      <th>997</th>\n",
       "      <td>The Boy Does Nothing</td>\n",
       "      <td>Alesha Dixon</td>\n",
       "    </tr>\n",
       "    <tr>\n",
       "      <th>998</th>\n",
       "      <td>Falling For You</td>\n",
       "      <td>Colbie Caillat</td>\n",
       "    </tr>\n",
       "    <tr>\n",
       "      <th>999</th>\n",
       "      <td>Don't Stop Believin'</td>\n",
       "      <td>Glee Cast</td>\n",
       "    </tr>\n",
       "  </tbody>\n",
       "</table>\n",
       "<p>1000 rows × 2 columns</p>\n",
       "</div>"
      ],
      "text/plain": [
       "                  song_title                  artist\n",
       "0                      Music                 Madonna\n",
       "1              Beautiful Day                      U2\n",
       "2              Bye, Bye, Bye                  N Sync\n",
       "3                       Stan                  Eminem\n",
       "4    Oops!... I Did it Again          Britney Spears\n",
       "..                       ...                     ...\n",
       "995                 Not Fair              Lily Allen\n",
       "996        Dog Days Are Over  Florence + The Machine\n",
       "997     The Boy Does Nothing            Alesha Dixon\n",
       "998          Falling For You          Colbie Caillat\n",
       "999     Don't Stop Believin'               Glee Cast\n",
       "\n",
       "[1000 rows x 2 columns]"
      ]
     },
     "execution_count": 91,
     "metadata": {},
     "output_type": "execute_result"
    }
   ],
   "source": [
    "top1000_2000s"
   ]
  },
  {
   "cell_type": "code",
   "execution_count": null,
   "id": "057da3c2",
   "metadata": {},
   "outputs": [],
   "source": []
  }
 ],
 "metadata": {
  "kernelspec": {
   "display_name": "Python 3",
   "language": "python",
   "name": "python3"
  },
  "language_info": {
   "codemirror_mode": {
    "name": "ipython",
    "version": 3
   },
   "file_extension": ".py",
   "mimetype": "text/x-python",
   "name": "python",
   "nbconvert_exporter": "python",
   "pygments_lexer": "ipython3",
   "version": "3.8.8"
  }
 },
 "nbformat": 4,
 "nbformat_minor": 5
}
